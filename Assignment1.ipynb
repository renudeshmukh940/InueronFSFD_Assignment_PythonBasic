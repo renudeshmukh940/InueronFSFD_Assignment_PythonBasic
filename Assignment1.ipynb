{
 "cells": [
  {
   "attachments": {},
   "cell_type": "markdown",
   "metadata": {},
   "source": [
    "# Assignment No-1"
   ]
  },
  {
   "attachments": {},
   "cell_type": "markdown",
   "metadata": {},
   "source": [
    "### 1.In the below elements which of them are values or an expression? eg:- values can be integer or string and expressions will be mathematical operators. \n",
    " \n",
    "`*`,`'hello'`, `-87.8`,`-`,`/`,`+`,`6`\n"
   ]
  },
  {
   "attachments": {},
   "cell_type": "markdown",
   "metadata": {},
   "source": [
    "**Ans**: There are a total of 4 Operators and 3 Expressions, They are:\n",
    "\n",
    "Operators: `'*'`, `'-'`, `'/'`, `'+'`\n",
    "\n",
    "Expressions: `'hello'`, `'87.8'`, `'6'`\n"
   ]
  },
  {
   "attachments": {},
   "cell_type": "markdown",
   "metadata": {},
   "source": [
    "### 2. What is the difference between string and variable?\n",
    "\n",
    "\n",
    "**Ans**: Variable: Variables are containers for storing data values.\n",
    "\n",
    "\n",
    "Example: my_var= 3 or “hello’\n",
    "\n",
    "String: A String is a type of information you would store in a Variable. String is a group of characters or a single character usually enclosed in Double quotes \" \" or single quotes ' '.\n",
    "\n",
    "Example: str=\"Hello I am there\""
   ]
  },
  {
   "attachments": {},
   "cell_type": "markdown",
   "metadata": {},
   "source": [
    "### 3. Describe three different Data Types ?"
   ]
  },
  {
   "attachments": {},
   "cell_type": "markdown",
   "metadata": {},
   "source": [
    "**Ans**: Three fundamental Data types in python are int, float, complex.\n",
    "\n",
    "1.int data type: We can use int data type to represent whole numbers (integral values)\n",
    "\n",
    "2.float data type: We can use float data type to represent floating point values (decimal values)\n",
    "\n",
    "3.complex data type: Complex number is represented by complex class. It is specified as (real part) + (imaginary part)j.\n"
   ]
  },
  {
   "cell_type": "code",
   "execution_count": 1,
   "metadata": {},
   "outputs": [
    {
     "name": "stdout",
     "output_type": "stream",
     "text": [
      "The type of variable having value 100  is  <class 'int'>\n",
      "The type of variable having value 20.345  is  <class 'float'>\n",
      "The type of variable having value (10+3j)  is  <class 'complex'>\n"
     ]
    }
   ],
   "source": [
    "# integer variable.\n",
    "a=100\n",
    "print(\"The type of variable having value\", a, \" is \", type(a))\n",
    "\n",
    "# float variable.\n",
    "b=20.345\n",
    "print(\"The type of variable having value\", b, \" is \", type(b))\n",
    "\n",
    "# complex variable.\n",
    "c=10+3j\n",
    "print(\"The type of variable having value\", c, \" is \", type(c))"
   ]
  },
  {
   "attachments": {},
   "cell_type": "markdown",
   "metadata": {},
   "source": [
    "### 4. What is an expression made up of? What do all expressions do?"
   ]
  },
  {
   "attachments": {},
   "cell_type": "markdown",
   "metadata": {},
   "source": [
    "**Ans**: Expressions: A combination of operands and operators is called an expression. The expression in Python produces some value or result after being interpreted by the Python interpreter. An expression in Python is a combination of operators and operands."
   ]
  },
  {
   "cell_type": "code",
   "execution_count": 10,
   "metadata": {},
   "outputs": [
    {
     "name": "stdout",
     "output_type": "stream",
     "text": [
      "1488\n"
     ]
    }
   ],
   "source": [
    "x=12*125+(2*3)-18\n",
    "print(x)"
   ]
  },
  {
   "attachments": {},
   "cell_type": "markdown",
   "metadata": {},
   "source": [
    "### 5.This assignment statements, like spam = 10. What is the difference between an expression and a statement?"
   ]
  },
  {
   "attachments": {},
   "cell_type": "markdown",
   "metadata": {},
   "source": [
    "**Ans:** Expression: An expression is a combination of values, variables, and operators.When we type an expression at the prompt, the interpreter evaluates it, which means that it finds the value of the expression.\n",
    "* for example:  x=12*125+3-18\n",
    "\n",
    "Statement : A statement is a unit of code that has an effect, like creating a variable or displaying a value.When we type a statement, the interpreter executes it, which means that it does whatever the statement says. In general, statements don’t have values.\n",
    "\n",
    "* eg: variable declaration and assignment are statements because they do not return a value\n",
    "\n"
   ]
  },
  {
   "cell_type": "code",
   "execution_count": 11,
   "metadata": {},
   "outputs": [
    {
     "name": "stdout",
     "output_type": "stream",
     "text": [
      "Hii ! I am Renu....\n"
     ]
    }
   ],
   "source": [
    "#Example:\n",
    "x=12*125+3-18 # Is a Expression\n",
    "\n",
    "Name = 'Renu Deshmukh' # Is a Statement\n",
    "\n",
    "print(\"Hii ! I am Renu....\") # Is a Expression Statement"
   ]
  },
  {
   "attachments": {},
   "cell_type": "markdown",
   "metadata": {},
   "source": [
    "### 6.After running the following code, what does the variable bacon contain?\n",
    "`bacon = 22`  \n",
    "`bacon + 1`\n",
    "\n",
    "**Ans:** The variable `bacon` is set to `22` .The expression `bacon + 1` does not reassign the value in\n",
    "bacon (that would the case if the expression is like `bacon = bacon + 1` instead of `bacon + 1`)"
   ]
  },
  {
   "cell_type": "code",
   "execution_count": 5,
   "metadata": {},
   "outputs": [
    {
     "name": "stdout",
     "output_type": "stream",
     "text": [
      "22\n"
     ]
    }
   ],
   "source": [
    "# Example Case#1\n",
    "bacon=22\n",
    "bacon+1\n",
    "print(bacon)"
   ]
  },
  {
   "cell_type": "code",
   "execution_count": 6,
   "metadata": {},
   "outputs": [
    {
     "name": "stdout",
     "output_type": "stream",
     "text": [
      "23\n"
     ]
    }
   ],
   "source": [
    "#Example Case#2\n",
    "bacon=22\n",
    "bacon=bacon+1 \n",
    "print(bacon)"
   ]
  },
  {
   "attachments": {},
   "cell_type": "markdown",
   "metadata": {},
   "source": [
    "#### 7.What should the values of the following two terms be?  \n",
    "`'spam'+'spamspam'`  \n",
    "`'spam'*3`\n",
    "\n",
    "**Ans:** Both expressions evaluate to the string **`'spamspamspam'`**\n",
    "Where as the first expression follows `String Concatentation` and the second expression follows `String Multiplication`\n"
   ]
  },
  {
   "cell_type": "code",
   "execution_count": 2,
   "metadata": {},
   "outputs": [
    {
     "name": "stdout",
     "output_type": "stream",
     "text": [
      "spamspamspam\n",
      "spamspamspam\n"
     ]
    }
   ],
   "source": [
    "print('spam'+'spamspam') # string concatenation\n",
    "print('spam'*3) # string multiplication"
   ]
  },
  {
   "attachments": {},
   "cell_type": "markdown",
   "metadata": {},
   "source": [
    "#### 8. Why is eggs a valid variable name while 100 is invalid?\n",
    "**Ans:** As per python,Variable names cannot begin with a number. The python rules for naming a variable are :- \n",
    "1. Variable name must start with a letter or the underscore character.\n",
    "2. Variable name cannot start with a number.\n",
    "3. Variable name can only contain alpha-numeric characters and underscores (A-z, 0-9, & _ ).\n",
    "4. Variable names are case-sensitive (name, `Var` and `var` are three different variables).\n",
    "5. The reserved words(keywords) cannot be used naming the variable."
   ]
  },
  {
   "cell_type": "code",
   "execution_count": 10,
   "metadata": {},
   "outputs": [
    {
     "ename": "SyntaxError",
     "evalue": "cannot assign to literal here. Maybe you meant '==' instead of '='? (804257135.py, line 2)",
     "output_type": "error",
     "traceback": [
      "\u001b[1;36m  Cell \u001b[1;32mIn[10], line 2\u001b[1;36m\u001b[0m\n\u001b[1;33m    100='hello' # Invalid Variable Initilization\u001b[0m\n\u001b[1;37m    ^\u001b[0m\n\u001b[1;31mSyntaxError\u001b[0m\u001b[1;31m:\u001b[0m cannot assign to literal here. Maybe you meant '==' instead of '='?\n"
     ]
    }
   ],
   "source": [
    "egg='hii' # Valid variable Initilization\n",
    "100='hello' # Invalid Variable Initilization\n",
    "print(egg) #prints the value of egg ie Ineuron\n",
    "print(100) # Raises a Syntax Error as 100 is not a valid variable name"
   ]
  },
  {
   "attachments": {},
   "cell_type": "markdown",
   "metadata": {},
   "source": [
    "#### 9.What three functions can be used to get the integer,floating-point number,or string version of a value?\n",
    "**Ans:** The `int()`,`float()`,and `str()` functions will evaluate to the integer,floating-point number,string version of the value passed to them."
   ]
  },
  {
   "cell_type": "code",
   "execution_count": 7,
   "metadata": {},
   "outputs": [
    {
     "name": "stdout",
     "output_type": "stream",
     "text": [
      "int(10.0) ->  16\n",
      "float(10) ->  16.0\n",
      "str(10) ->  16\n"
     ]
    }
   ],
   "source": [
    "# Examples:\n",
    "print('int(10.0) -> ',int(16.0)) # int() function converts given input to int\n",
    "print('float(10) -> ',float(16)) # float() function converts given input to float\n",
    "print('str(10) -> ',str(16)) # str() function converts given input to string"
   ]
  },
  {
   "attachments": {},
   "cell_type": "markdown",
   "metadata": {},
   "source": [
    "#### 10.Why does this expression cause an error? how can you fix it?  \n",
    "`'I have eaten ' + 99 + 'burritos.'`\n",
    "\n",
    "**Ans:** This cause of error is 99.because 99 is not a string. 99 must be typecasted to a string to fix this error. the correct way is:  \n",
    "**Input:** `'I have eaten ' + str(99) + 'burritos.'`  \n",
    "**Output:** `'I have eaten 99 burritos.'`"
   ]
  },
  {
   "cell_type": "code",
   "execution_count": 8,
   "metadata": {},
   "outputs": [
    {
     "name": "stdout",
     "output_type": "stream",
     "text": [
      "I have eaten 99 burritos\n"
     ]
    }
   ],
   "source": [
    "print('I have eaten '+str(99)+' burritos')"
   ]
  }
 ],
 "metadata": {
  "kernelspec": {
   "display_name": "base",
   "language": "python",
   "name": "python3"
  },
  "language_info": {
   "codemirror_mode": {
    "name": "ipython",
    "version": 3
   },
   "file_extension": ".py",
   "mimetype": "text/x-python",
   "name": "python",
   "nbconvert_exporter": "python",
   "pygments_lexer": "ipython3",
   "version": "3.10.9"
  },
  "orig_nbformat": 4,
  "vscode": {
   "interpreter": {
    "hash": "bb24bdecc9eb72a28d48dd6b0b993f699732a1f8cce9885cf1e0076ceefc0752"
   }
  }
 },
 "nbformat": 4,
 "nbformat_minor": 2
}
