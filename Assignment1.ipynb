{
 "cells": [
  {
   "attachments": {},
   "cell_type": "markdown",
   "metadata": {},
   "source": [
    "Assignment No-1"
   ]
  },
  {
   "attachments": {},
   "cell_type": "markdown",
   "metadata": {},
   "source": [
    "1.In the below elements which of them are values or an expression? eg:- values can be integer or string and expressions will be mathematical operators. \n",
    " \n",
    "*,'hello', -87.8,-,/,+,6"
   ]
  },
  {
   "attachments": {},
   "cell_type": "markdown",
   "metadata": {},
   "source": [
    "Ans: There are a total of 4 Operators and 3 Expressions, They are:\n",
    "\n",
    "Operators: *,-,/,+\n",
    "\n",
    "Expressions: 'hello', 87.8, 6\n"
   ]
  },
  {
   "attachments": {},
   "cell_type": "markdown",
   "metadata": {},
   "source": [
    "2. What is the difference between string and variable?\n",
    "\n",
    "\n",
    "Ans: Variable: Variables are containers for storing data values.\n",
    "\n",
    "\n",
    "Example: my_var= 3 or “hello’\n",
    "\n",
    "String: A String is a type of information you would store in a Variable. String is a group of characters or a single character usually enclosed in Double quotes \" \" or single quotes ' '.\n",
    "\n",
    "Example: str=\"Hello I am there\""
   ]
  },
  {
   "attachments": {},
   "cell_type": "markdown",
   "metadata": {},
   "source": [
    "3. Describe three different Data Types ?"
   ]
  },
  {
   "attachments": {},
   "cell_type": "markdown",
   "metadata": {},
   "source": [
    "Ans: Three fundamental Data types in python are int, float, complex.\n",
    "\n",
    "1.int data type: We can use int data type to represent whole numbers (integral values)\n",
    "\n",
    "2.float data type: We can use float data type to represent floating point values (decimal values)\n",
    "\n",
    "3.complex data type: Complex number is represented by complex class. It is specified as (real part) + (imaginary part)j.\n"
   ]
  },
  {
   "cell_type": "code",
   "execution_count": 1,
   "metadata": {},
   "outputs": [
    {
     "name": "stdout",
     "output_type": "stream",
     "text": [
      "The type of variable having value 100  is  <class 'int'>\n",
      "The type of variable having value 20.345  is  <class 'float'>\n",
      "The type of variable having value (10+3j)  is  <class 'complex'>\n"
     ]
    }
   ],
   "source": [
    "# integer variable.\n",
    "a=100\n",
    "print(\"The type of variable having value\", a, \" is \", type(a))\n",
    "\n",
    "# float variable.\n",
    "b=20.345\n",
    "print(\"The type of variable having value\", b, \" is \", type(b))\n",
    "\n",
    "# complex variable.\n",
    "c=10+3j\n",
    "print(\"The type of variable having value\", c, \" is \", type(c))"
   ]
  },
  {
   "attachments": {},
   "cell_type": "markdown",
   "metadata": {},
   "source": [
    "4. What is an expression made up of? What do all expressions do?"
   ]
  },
  {
   "attachments": {},
   "cell_type": "markdown",
   "metadata": {},
   "source": [
    "Ans: Expressions: A combination of operands and operators is called an expression. The expression in Python produces some value or result after being interpreted by the Python interpreter. An expression in Python is a combination of operators and operands."
   ]
  },
  {
   "cell_type": "code",
   "execution_count": 10,
   "metadata": {},
   "outputs": [
    {
     "name": "stdout",
     "output_type": "stream",
     "text": [
      "1488\n"
     ]
    }
   ],
   "source": [
    "x=12*125+(2*3)-18\n",
    "print(x)"
   ]
  },
  {
   "attachments": {},
   "cell_type": "markdown",
   "metadata": {},
   "source": [
    "5.This assignment statements, like spam = 10. What is the difference between an expression and a statement?"
   ]
  },
  {
   "attachments": {},
   "cell_type": "markdown",
   "metadata": {},
   "source": [
    "Ans: Expression: An expression is a combination of values, variables, and operators.When we type an expression at the prompt, the interpreter evaluates it, which means that it finds the value of the expression.\n",
    "* for example:  x=12*125+3-18\n",
    "\n",
    "Statement : A statement is a unit of code that has an effect, like creating a variable or displaying a value.When we type a statement, the interpreter executes it, which means that it does whatever the statement says. In general, statements don’t have values.\n",
    "\n",
    "* eg: variable declaration and assignment are statements because they do not return a value\n",
    "\n"
   ]
  },
  {
   "cell_type": "code",
   "execution_count": 11,
   "metadata": {},
   "outputs": [
    {
     "name": "stdout",
     "output_type": "stream",
     "text": [
      "Hii ! I am Renu....\n"
     ]
    }
   ],
   "source": [
    "#Example:\n",
    "x=12*125+3-18 # Is a Expression\n",
    "\n",
    "Name = 'Renu Deshmukh' # Is a Statement\n",
    "\n",
    "print(\"Hii ! I am Renu....\") # Is a Expression Statement"
   ]
  },
  {
   "cell_type": "markdown",
   "metadata": {},
   "source": []
  },
  {
   "cell_type": "code",
   "execution_count": null,
   "metadata": {},
   "outputs": [],
   "source": []
  }
 ],
 "metadata": {
  "kernelspec": {
   "display_name": "base",
   "language": "python",
   "name": "python3"
  },
  "language_info": {
   "codemirror_mode": {
    "name": "ipython",
    "version": 3
   },
   "file_extension": ".py",
   "mimetype": "text/x-python",
   "name": "python",
   "nbconvert_exporter": "python",
   "pygments_lexer": "ipython3",
   "version": "3.9.13"
  },
  "orig_nbformat": 4,
  "vscode": {
   "interpreter": {
    "hash": "bb24bdecc9eb72a28d48dd6b0b993f699732a1f8cce9885cf1e0076ceefc0752"
   }
  }
 },
 "nbformat": 4,
 "nbformat_minor": 2
}
