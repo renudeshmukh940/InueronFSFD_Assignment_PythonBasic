{
 "cells": [
  {
   "attachments": {},
   "cell_type": "markdown",
   "metadata": {},
   "source": [
    "#  Assignment 4 Solution"
   ]
  },
  {
   "attachments": {},
   "cell_type": "markdown",
   "metadata": {},
   "source": [
    "1. What exactly is []?\n",
    "\n",
    "**Ans**: In Python, [] represents an empty list. A list is a built-in data type in Python that allows you to store and organize multiple items in a single variable. Lists are mutable, which means you can modify them by adding, removing, or changing elements.\n",
    "\n",
    "An empty list, denoted by [], has no elements and represents a list with zero items. It can be created by simply using the empty brackets.\n",
    "For example:\n",
    "empty_list = []\n"
   ]
  },
  {
   "attachments": {},
   "cell_type": "markdown",
   "metadata": {},
   "source": [
    "2. In a list of values stored in a variable called spam, how would you assign the value &#39;hello&#39; as the\n",
    "third value? (Assume [2, 4, 6, 8, 10] are in spam.)\n"
   ]
  },
  {
   "attachments": {},
   "cell_type": "markdown",
   "metadata": {},
   "source": [
    "**Ans**: `spam[2]='hello'` (Note: Lists follows zero based indexing)"
   ]
  },
  {
   "cell_type": "code",
   "execution_count": 3,
   "metadata": {},
   "outputs": [
    {
     "name": "stdout",
     "output_type": "stream",
     "text": [
      "[2, 4, 6, 8, 10]\n",
      "[2, 4, 'hello', 8, 10]\n"
     ]
    }
   ],
   "source": [
    "# Example\n",
    "spam=[2,4,6,8,10]\n",
    "print(spam)\n",
    "spam[2]='hello' #List uses zero based indexing\n",
    "print(spam)\n"
   ]
  },
  {
   "attachments": {},
   "cell_type": "markdown",
   "metadata": {},
   "source": [
    "## Let's pretend the spam includes the list ['a','b','c',d'] for the next three queries."
   ]
  },
  {
   "attachments": {},
   "cell_type": "markdown",
   "metadata": {},
   "source": [
    "3. What is the value of spam[int(int(&#39;3&#39; * 2) / 11)]?\n",
    "\n",
    "**Ans:** `'d'` (Note that '3' * 2 is the string '33', which is passed to int() before being divided by 11.\n",
    "     This eventually evaluates to 3, `spam[3]` is equal to `d`.)"
   ]
  },
  {
   "cell_type": "code",
   "execution_count": 4,
   "metadata": {},
   "outputs": [
    {
     "name": "stdout",
     "output_type": "stream",
     "text": [
      "d\n"
     ]
    }
   ],
   "source": [
    "spam = ['a', 'b', 'c', 'd']\n",
    "value = spam[int(int('3' * 2) / 11)]\n",
    "print(value)\n"
   ]
  },
  {
   "attachments": {},
   "cell_type": "markdown",
   "metadata": {},
   "source": [
    "4. What is the value of spam[-1]?\n",
    "\n",
    "**Ans:** `'d'` (Lists support Negative indexing, Hence `spam[-1]` returs `'d'`)"
   ]
  },
  {
   "cell_type": "code",
   "execution_count": 5,
   "metadata": {},
   "outputs": [
    {
     "name": "stdout",
     "output_type": "stream",
     "text": [
      "d\n"
     ]
    }
   ],
   "source": [
    "spam = ['a', 'b', 'c', 'd']\n",
    "value = spam[-1]\n",
    "print(value)\n"
   ]
  },
  {
   "attachments": {},
   "cell_type": "markdown",
   "metadata": {},
   "source": [
    "5. What is the value of spam[:2]?\n",
    "\n",
    "**Ans:** `spam[:2]` returns all elements in the list spam from 0 to 2 excluding 2"
   ]
  },
  {
   "cell_type": "code",
   "execution_count": 6,
   "metadata": {},
   "outputs": [
    {
     "name": "stdout",
     "output_type": "stream",
     "text": [
      "['a', 'b']\n"
     ]
    }
   ],
   "source": [
    "spam = ['a', 'b', 'c', 'd']\n",
    "value = spam[:2]\n",
    "print(value)\n"
   ]
  },
  {
   "attachments": {},
   "cell_type": "markdown",
   "metadata": {},
   "source": [
    "## Let's pretend bacon has the list [3.14,'cat',11,'cat',True] for the next three question"
   ]
  },
  {
   "attachments": {},
   "cell_type": "markdown",
   "metadata": {},
   "source": [
    "#### 6. What is the value of bacon.index('cat')?"
   ]
  },
  {
   "attachments": {},
   "cell_type": "markdown",
   "metadata": {},
   "source": [
    "**Ans:** The value of `bacon.index('cat')` is `1` (Note: index method returns the index of first occuerence of `'cat'`)"
   ]
  },
  {
   "cell_type": "code",
   "execution_count": 7,
   "metadata": {},
   "outputs": [
    {
     "name": "stdout",
     "output_type": "stream",
     "text": [
      "1\n"
     ]
    }
   ],
   "source": [
    "bacon = [3.14, 'cat', 11, 'cat', True]\n",
    "index = bacon.index('cat')\n",
    "print(index)\n"
   ]
  },
  {
   "attachments": {},
   "cell_type": "markdown",
   "metadata": {},
   "source": [
    "#### 7. How does bacon.append(99) change the look of the list value in bacon?\n",
    "**Ans:** The `append` method adds new elements to the end of the list"
   ]
  },
  {
   "cell_type": "code",
   "execution_count": 9,
   "metadata": {},
   "outputs": [
    {
     "name": "stdout",
     "output_type": "stream",
     "text": [
      "[3.14, 'cat', 11, 'cat', True, 99]\n",
      "[3.14, 'cat', 11, 'cat', True, 99, 99]\n"
     ]
    }
   ],
   "source": [
    "# Example\n",
    "print(bacon)\n",
    "bacon.append(99) # appends 99 \n",
    "print(bacon)"
   ]
  },
  {
   "attachments": {},
   "cell_type": "markdown",
   "metadata": {},
   "source": [
    "#### 8. How does bacon.remove('cat') change the look of the list in bacon?\n",
    "**Ans:** The `remove` method removes the first occurence of the element in the list"
   ]
  },
  {
   "cell_type": "code",
   "execution_count": 10,
   "metadata": {},
   "outputs": [
    {
     "name": "stdout",
     "output_type": "stream",
     "text": [
      "[3.14, 'cat', 11, 'cat', True, 99, 99]\n",
      "[3.14, 11, 'cat', True, 99, 99]\n"
     ]
    }
   ],
   "source": [
    "print(bacon)\n",
    "bacon.remove('cat')\n",
    "print(bacon)"
   ]
  },
  {
   "attachments": {},
   "cell_type": "markdown",
   "metadata": {},
   "source": [
    "#### 9.what are the list concatenation and list replication operations?\n",
    "**Ans:** **List Concatenation**:\n",
    "List concatenation is the process of combining two or more lists into a single list. In Python, the + operator is used for list concatenation.\n",
    "\n",
    "**List Replication**:\n",
    "List replication is the process of creating a new list by repeating the elements of an existing list a certain number of times. In Python, the * operator is used for list replication.(This is the same as for strings.)\n",
    "\n",
    "\n"
   ]
  },
  {
   "cell_type": "code",
   "execution_count": 1,
   "metadata": {},
   "outputs": [
    {
     "name": "stdout",
     "output_type": "stream",
     "text": [
      "[1, 2, 3, 4, 5, 6]\n",
      "[1, 2, 3, 1, 2, 3, 1, 2, 3, 1, 2, 3]\n"
     ]
    }
   ],
   "source": [
    "#List Concatenation\n",
    "list1 = [1, 2, 3]\n",
    "list2 = [4, 5, 6]\n",
    "concatenated_list = list1 + list2\n",
    "print(concatenated_list)\n",
    "\n",
    "#List Replication\n",
    "list1 = [1, 2, 3]\n",
    "replicated_list = list1 * 4\n",
    "print(replicated_list)"
   ]
  },
  {
   "attachments": {},
   "cell_type": "markdown",
   "metadata": {},
   "source": [
    "#### 10.what is the difference between the list method append() and insert()?\n",
    "**Ans**: The append() and insert() methods are used to add elements to a list in Python, but they differ in how the elements are added:\n",
    "\n",
    "1. `append() `method:\n",
    "The `append()` method is used to add an element to the end of a list. It takes a single argument, which is the element to be added, and appends it to the end of the list.\n",
    "2. `insert()` method:\n",
    "The `insert()` method is used to add an element at a specific position in a list. It takes two arguments: the index position where the element should be inserted and the element itself.\n"
   ]
  },
  {
   "cell_type": "code",
   "execution_count": 2,
   "metadata": {},
   "outputs": [
    {
     "name": "stdout",
     "output_type": "stream",
     "text": [
      "[1, 2, 3, 4]\n",
      "[1, 4, 2, 3]\n"
     ]
    }
   ],
   "source": [
    "#Append()\n",
    "my_list = [1, 2, 3]\n",
    "my_list.append(4)\n",
    "print(my_list)\n",
    "#Insert()\n",
    "my_list = [1, 2, 3]\n",
    "my_list.insert(1, 4)\n",
    "print(my_list)"
   ]
  },
  {
   "attachments": {},
   "cell_type": "markdown",
   "metadata": {},
   "source": [
    "#### 11. What are the two methods for removing items from a list?\n",
    "**Ans:** The `del` statement and the `remove()` method are two ways to remove values from a list"
   ]
  },
  {
   "cell_type": "code",
   "execution_count": 5,
   "metadata": {},
   "outputs": [
    {
     "name": "stdout",
     "output_type": "stream",
     "text": [
      "[1, 2, 4, 5]\n",
      "[1, 2, 4, 5]\n"
     ]
    }
   ],
   "source": [
    "my_list = [1, 2, 3, 4, 5]\n",
    "del my_list[2]  # Remove the element at index 2\n",
    "print(my_list)\n",
    "my_list = [1, 2, 3, 4, 5]\n",
    "my_list.remove(3)  # Remove the first occurrence of value 3\n",
    "print(my_list)\n"
   ]
  },
  {
   "attachments": {},
   "cell_type": "markdown",
   "metadata": {},
   "source": [
    "#### 12. Describe how list values and string values are identical.\n",
    "**Ans**: Both lists and strings can be passed to `len()` function, have indexes and slices, be used in `for` loops, be concatenated or replicated, and be used with the `in` and `not in` operators."
   ]
  },
  {
   "attachments": {},
   "cell_type": "markdown",
   "metadata": {},
   "source": [
    "#### 13. What's the difference between tuples and lists?\n",
    "**Ans:** Lists are `Mutable`, `Indexable` and `Slicable`. they can have values added, removed, or changed. Tuples are `Immutable` but `Indexable` and `Slicable`. the tuple values cannot be changed at all. Also, tuples are represented using parentheses, `()`, while lists use the square brackets, `[]`."
   ]
  },
  {
   "attachments": {},
   "cell_type": "markdown",
   "metadata": {},
   "source": [
    "#### 14. How do you type a tuple value that only contains the integer 42?\n",
    "**Ans:**(42,) (The trailing comma is mandatory. otherwise its considered as a int by python Interpreter)"
   ]
  },
  {
   "cell_type": "code",
   "execution_count": 6,
   "metadata": {},
   "outputs": [
    {
     "name": "stdout",
     "output_type": "stream",
     "text": [
      "<class 'int'>\n",
      "<class 'tuple'>\n"
     ]
    }
   ],
   "source": [
    "tup1=(42)\n",
    "tup2=(42,)\n",
    "print(type(tup1))\n",
    "print(type(tup2))"
   ]
  },
  {
   "attachments": {},
   "cell_type": "markdown",
   "metadata": {},
   "source": [
    "#### 15. How do you get a list value's tuple form? How do you get a tuple value's list form?\n",
    "**Ans:** The tuple() and list() functions, respectively are used to convert a list to tuple and vice versa"
   ]
  },
  {
   "cell_type": "code",
   "execution_count": 8,
   "metadata": {},
   "outputs": [
    {
     "name": "stdout",
     "output_type": "stream",
     "text": [
      "(1, 2, 3, 4)\n"
     ]
    }
   ],
   "source": [
    "my_list = [1, 2, 3, 4]\n",
    "my_tuple = tuple(my_list)\n",
    "print(my_tuple)"
   ]
  },
  {
   "attachments": {},
   "cell_type": "markdown",
   "metadata": {},
   "source": [
    "#### 16. Variables that &quot;contain&quot; list values are not necessarily lists themselves. Instead, what do they contain?\n",
    "**Ans**: They contain references to list values."
   ]
  },
  {
   "attachments": {},
   "cell_type": "markdown",
   "metadata": {},
   "source": [
    "#### 17. How do you distinguish between copy.copy() and copy.deepcopy()?\n",
    "**Ans:** The `copy.copy()` function will do a shallow copy of a list, while the `copy.deepcopy()` function will do a deep copy of a list. That is, only `copy.deepcopy()` will duplicate any lists inside the list."
   ]
  },
  {
   "cell_type": "code",
   "execution_count": 16,
   "metadata": {},
   "outputs": [
    {
     "name": "stdout",
     "output_type": "stream",
     "text": [
      "Original List: [1, [4, 3]]\n",
      "Shallow Copy: [1, [4, 3]]\n",
      "Deep Copy: [1, [2, 3]]\n"
     ]
    }
   ],
   "source": [
    "import copy\n",
    "original_list = [1, [2, 3]]\n",
    "# Shallow copy using copy.copy()\n",
    "shallow_copy = copy.copy(original_list)\n",
    "# Deep copy using copy.deepcopy()\n",
    "deep_copy = copy.deepcopy(original_list)\n",
    "# Modifying the original list\n",
    "original_list[1][0] = 4\n",
    "# Printing the original list and the copies\n",
    "print(\"Original List:\", original_list)\n",
    "print(\"Shallow Copy:\", shallow_copy)\n",
    "print(\"Deep Copy:\", deep_copy)\n"
   ]
  }
 ],
 "metadata": {
  "kernelspec": {
   "display_name": "base",
   "language": "python",
   "name": "python3"
  },
  "language_info": {
   "codemirror_mode": {
    "name": "ipython",
    "version": 3
   },
   "file_extension": ".py",
   "mimetype": "text/x-python",
   "name": "python",
   "nbconvert_exporter": "python",
   "pygments_lexer": "ipython3",
   "version": "3.10.9"
  },
  "orig_nbformat": 4
 },
 "nbformat": 4,
 "nbformat_minor": 2
}
